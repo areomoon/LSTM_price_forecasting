{
 "cells": [
  {
   "cell_type": "markdown",
   "metadata": {},
   "source": [
    "# Dependency"
   ]
  },
  {
   "cell_type": "markdown",
   "metadata": {},
   "source": [
    "Install the following required package"
   ]
  },
  {
   "cell_type": "code",
   "execution_count": 138,
   "metadata": {},
   "outputs": [],
   "source": [
    "!pip install tensorflow keras pandas xlrd sklearn "
   ]
  },
  {
   "cell_type": "markdown",
   "metadata": {},
   "source": [
    "# Load Data "
   ]
  },
  {
   "cell_type": "code",
   "execution_count": 508,
   "metadata": {},
   "outputs": [],
   "source": [
    "import pandas as pd \n",
    "import numpy as np "
   ]
  },
  {
   "cell_type": "code",
   "execution_count": 509,
   "metadata": {},
   "outputs": [],
   "source": [
    "df= pd.read_excel('index_LSTM.xlsx')"
   ]
  },
  {
   "cell_type": "code",
   "execution_count": 510,
   "metadata": {
    "scrolled": true
   },
   "outputs": [
    {
     "data": {
      "text/plain": [
       "Index(['date', 'HS300', 'ZZ500', 'BOND', 'CREDIT', 'Commodity', 'PPI %',\n",
       "       'CPI %', 'M2', 'Lending', 'Industrial', 'PMI', 'Spread', 'VOL300',\n",
       "       'VOL500', 'BDI', 'USD/CNY', 'USD', 'Unnamed: 18', 'Unnamed: 19',\n",
       "       'Unnamed: 20'],\n",
       "      dtype='object')"
      ]
     },
     "execution_count": 510,
     "metadata": {},
     "output_type": "execute_result"
    }
   ],
   "source": [
    "df.columns"
   ]
  },
  {
   "cell_type": "code",
   "execution_count": 511,
   "metadata": {},
   "outputs": [
    {
     "data": {
      "text/html": [
       "<div>\n",
       "<style scoped>\n",
       "    .dataframe tbody tr th:only-of-type {\n",
       "        vertical-align: middle;\n",
       "    }\n",
       "\n",
       "    .dataframe tbody tr th {\n",
       "        vertical-align: top;\n",
       "    }\n",
       "\n",
       "    .dataframe thead th {\n",
       "        text-align: right;\n",
       "    }\n",
       "</style>\n",
       "<table border=\"1\" class=\"dataframe\">\n",
       "  <thead>\n",
       "    <tr style=\"text-align: right;\">\n",
       "      <th></th>\n",
       "      <th>date</th>\n",
       "      <th>HS300</th>\n",
       "      <th>ZZ500</th>\n",
       "      <th>BOND</th>\n",
       "      <th>CREDIT</th>\n",
       "      <th>Commodity</th>\n",
       "      <th>PPI %</th>\n",
       "      <th>CPI %</th>\n",
       "      <th>M2</th>\n",
       "      <th>Lending</th>\n",
       "      <th>...</th>\n",
       "      <th>PMI</th>\n",
       "      <th>Spread</th>\n",
       "      <th>VOL300</th>\n",
       "      <th>VOL500</th>\n",
       "      <th>BDI</th>\n",
       "      <th>USD/CNY</th>\n",
       "      <th>USD</th>\n",
       "      <th>Unnamed: 18</th>\n",
       "      <th>Unnamed: 19</th>\n",
       "      <th>Unnamed: 20</th>\n",
       "    </tr>\n",
       "  </thead>\n",
       "  <tbody>\n",
       "    <tr>\n",
       "      <th>0</th>\n",
       "      <td>2013-04-01</td>\n",
       "      <td>2493.187</td>\n",
       "      <td>3470.960</td>\n",
       "      <td>145.0057</td>\n",
       "      <td>129.3688</td>\n",
       "      <td>1275.27</td>\n",
       "      <td>-1.951818</td>\n",
       "      <td>2.083986</td>\n",
       "      <td>15.718182</td>\n",
       "      <td>25145.090909</td>\n",
       "      <td>...</td>\n",
       "      <td>50.886364</td>\n",
       "      <td>97.25622</td>\n",
       "      <td>47.346022</td>\n",
       "      <td>32.953823</td>\n",
       "      <td>910</td>\n",
       "      <td>6.2674</td>\n",
       "      <td>82.73</td>\n",
       "      <td>NaN</td>\n",
       "      <td>NaN</td>\n",
       "      <td>NaN</td>\n",
       "    </tr>\n",
       "    <tr>\n",
       "      <th>1</th>\n",
       "      <td>2013-04-02</td>\n",
       "      <td>2486.391</td>\n",
       "      <td>3428.500</td>\n",
       "      <td>145.1998</td>\n",
       "      <td>129.5004</td>\n",
       "      <td>1285.43</td>\n",
       "      <td>-1.983636</td>\n",
       "      <td>2.098373</td>\n",
       "      <td>15.736364</td>\n",
       "      <td>24787.181818</td>\n",
       "      <td>...</td>\n",
       "      <td>50.872727</td>\n",
       "      <td>96.16199</td>\n",
       "      <td>55.684152</td>\n",
       "      <td>37.863676</td>\n",
       "      <td>896</td>\n",
       "      <td>6.2586</td>\n",
       "      <td>82.89</td>\n",
       "      <td>NaN</td>\n",
       "      <td>NaN</td>\n",
       "      <td>NaN</td>\n",
       "    </tr>\n",
       "    <tr>\n",
       "      <th>2</th>\n",
       "      <td>2013-04-03</td>\n",
       "      <td>2483.547</td>\n",
       "      <td>3397.232</td>\n",
       "      <td>145.3059</td>\n",
       "      <td>129.6099</td>\n",
       "      <td>1278.72</td>\n",
       "      <td>-2.015455</td>\n",
       "      <td>2.112759</td>\n",
       "      <td>15.754545</td>\n",
       "      <td>24429.272727</td>\n",
       "      <td>...</td>\n",
       "      <td>50.859091</td>\n",
       "      <td>94.08273</td>\n",
       "      <td>45.564221</td>\n",
       "      <td>36.721020</td>\n",
       "      <td>877</td>\n",
       "      <td>6.2609</td>\n",
       "      <td>82.76</td>\n",
       "      <td>NaN</td>\n",
       "      <td>NaN</td>\n",
       "      <td>NaN</td>\n",
       "    </tr>\n",
       "  </tbody>\n",
       "</table>\n",
       "<p>3 rows × 21 columns</p>\n",
       "</div>"
      ],
      "text/plain": [
       "        date     HS300     ZZ500      BOND    CREDIT  Commodity     PPI %  \\\n",
       "0 2013-04-01  2493.187  3470.960  145.0057  129.3688    1275.27 -1.951818   \n",
       "1 2013-04-02  2486.391  3428.500  145.1998  129.5004    1285.43 -1.983636   \n",
       "2 2013-04-03  2483.547  3397.232  145.3059  129.6099    1278.72 -2.015455   \n",
       "\n",
       "      CPI %         M2       Lending     ...            PMI    Spread  \\\n",
       "0  2.083986  15.718182  25145.090909     ...      50.886364  97.25622   \n",
       "1  2.098373  15.736364  24787.181818     ...      50.872727  96.16199   \n",
       "2  2.112759  15.754545  24429.272727     ...      50.859091  94.08273   \n",
       "\n",
       "      VOL300     VOL500  BDI  USD/CNY    USD  Unnamed: 18  Unnamed: 19  \\\n",
       "0  47.346022  32.953823  910   6.2674  82.73          NaN          NaN   \n",
       "1  55.684152  37.863676  896   6.2586  82.89          NaN          NaN   \n",
       "2  45.564221  36.721020  877   6.2609  82.76          NaN          NaN   \n",
       "\n",
       "  Unnamed: 20  \n",
       "0         NaN  \n",
       "1         NaN  \n",
       "2         NaN  \n",
       "\n",
       "[3 rows x 21 columns]"
      ]
     },
     "execution_count": 511,
     "metadata": {},
     "output_type": "execute_result"
    }
   ],
   "source": [
    "df.head(3)"
   ]
  },
  {
   "cell_type": "markdown",
   "metadata": {},
   "source": [
    "Set your own parameters"
   ]
  },
  {
   "cell_type": "code",
   "execution_count": 512,
   "metadata": {},
   "outputs": [],
   "source": [
    "start_date ='2013-04-01' # t1 = 2013-04-01\n",
    "num_input_day = 10   # t1~t10\n",
    "time_lag = 1\n",
    "num_output_day = 1  # t10 + time_lag = t11\n",
    "input_features = ['CPI %','M2', 'Industrial','ZZ500','BOND','CREDIT']\n",
    "output = ['HS300']"
   ]
  },
  {
   "cell_type": "markdown",
   "metadata": {},
   "source": [
    "## Min-max scale"
   ]
  },
  {
   "cell_type": "markdown",
   "metadata": {},
   "source": [
    "Conduct min-max scale in input cols and target cols"
   ]
  },
  {
   "cell_type": "code",
   "execution_count": 513,
   "metadata": {},
   "outputs": [],
   "source": [
    "def minmax_scale(df,input_cols,output):\n",
    "    from sklearn.preprocessing import MinMaxScaler\n",
    "    sc_x = MinMaxScaler(feature_range=(0,1))\n",
    "    sc_y = MinMaxScaler(feature_range=(0,1))\n",
    "    df_x_scaled= sc_x.fit_transform(df[input_cols])\n",
    "    df_y_scaled= sc_y.fit_transform(df[output])\n",
    "    df[input_cols]=df_x_scaled\n",
    "    df[output]=df_y_scaled\n",
    "    return df,sc_y"
   ]
  },
  {
   "cell_type": "code",
   "execution_count": 514,
   "metadata": {},
   "outputs": [
    {
     "data": {
      "text/html": [
       "<div>\n",
       "<style scoped>\n",
       "    .dataframe tbody tr th:only-of-type {\n",
       "        vertical-align: middle;\n",
       "    }\n",
       "\n",
       "    .dataframe tbody tr th {\n",
       "        vertical-align: top;\n",
       "    }\n",
       "\n",
       "    .dataframe thead th {\n",
       "        text-align: right;\n",
       "    }\n",
       "</style>\n",
       "<table border=\"1\" class=\"dataframe\">\n",
       "  <thead>\n",
       "    <tr style=\"text-align: right;\">\n",
       "      <th></th>\n",
       "      <th>date</th>\n",
       "      <th>HS300</th>\n",
       "      <th>ZZ500</th>\n",
       "      <th>BOND</th>\n",
       "      <th>CREDIT</th>\n",
       "      <th>Commodity</th>\n",
       "      <th>PPI %</th>\n",
       "      <th>CPI %</th>\n",
       "      <th>M2</th>\n",
       "      <th>Lending</th>\n",
       "      <th>...</th>\n",
       "      <th>PMI</th>\n",
       "      <th>Spread</th>\n",
       "      <th>VOL300</th>\n",
       "      <th>VOL500</th>\n",
       "      <th>BDI</th>\n",
       "      <th>USD/CNY</th>\n",
       "      <th>USD</th>\n",
       "      <th>Unnamed: 18</th>\n",
       "      <th>Unnamed: 19</th>\n",
       "      <th>Unnamed: 20</th>\n",
       "    </tr>\n",
       "  </thead>\n",
       "  <tbody>\n",
       "    <tr>\n",
       "      <th>0</th>\n",
       "      <td>2013-04-01</td>\n",
       "      <td>0.124349</td>\n",
       "      <td>0.030243</td>\n",
       "      <td>0.133864</td>\n",
       "      <td>0.013870</td>\n",
       "      <td>1275.27</td>\n",
       "      <td>-1.951818</td>\n",
       "      <td>0.350816</td>\n",
       "      <td>0.955941</td>\n",
       "      <td>25145.090909</td>\n",
       "      <td>...</td>\n",
       "      <td>50.886364</td>\n",
       "      <td>97.25622</td>\n",
       "      <td>47.346022</td>\n",
       "      <td>32.953823</td>\n",
       "      <td>910</td>\n",
       "      <td>6.2674</td>\n",
       "      <td>82.73</td>\n",
       "      <td>NaN</td>\n",
       "      <td>NaN</td>\n",
       "      <td>NaN</td>\n",
       "    </tr>\n",
       "    <tr>\n",
       "      <th>1</th>\n",
       "      <td>2013-04-02</td>\n",
       "      <td>0.122268</td>\n",
       "      <td>0.025144</td>\n",
       "      <td>0.137721</td>\n",
       "      <td>0.016332</td>\n",
       "      <td>1285.43</td>\n",
       "      <td>-1.983636</td>\n",
       "      <td>0.354734</td>\n",
       "      <td>0.958193</td>\n",
       "      <td>24787.181818</td>\n",
       "      <td>...</td>\n",
       "      <td>50.872727</td>\n",
       "      <td>96.16199</td>\n",
       "      <td>55.684152</td>\n",
       "      <td>37.863676</td>\n",
       "      <td>896</td>\n",
       "      <td>6.2586</td>\n",
       "      <td>82.89</td>\n",
       "      <td>NaN</td>\n",
       "      <td>NaN</td>\n",
       "      <td>NaN</td>\n",
       "    </tr>\n",
       "    <tr>\n",
       "      <th>2</th>\n",
       "      <td>2013-04-03</td>\n",
       "      <td>0.121398</td>\n",
       "      <td>0.021389</td>\n",
       "      <td>0.139830</td>\n",
       "      <td>0.018381</td>\n",
       "      <td>1278.72</td>\n",
       "      <td>-2.015455</td>\n",
       "      <td>0.358651</td>\n",
       "      <td>0.960445</td>\n",
       "      <td>24429.272727</td>\n",
       "      <td>...</td>\n",
       "      <td>50.859091</td>\n",
       "      <td>94.08273</td>\n",
       "      <td>45.564221</td>\n",
       "      <td>36.721020</td>\n",
       "      <td>877</td>\n",
       "      <td>6.2609</td>\n",
       "      <td>82.76</td>\n",
       "      <td>NaN</td>\n",
       "      <td>NaN</td>\n",
       "      <td>NaN</td>\n",
       "    </tr>\n",
       "  </tbody>\n",
       "</table>\n",
       "<p>3 rows × 21 columns</p>\n",
       "</div>"
      ],
      "text/plain": [
       "        date     HS300     ZZ500      BOND    CREDIT  Commodity     PPI %  \\\n",
       "0 2013-04-01  0.124349  0.030243  0.133864  0.013870    1275.27 -1.951818   \n",
       "1 2013-04-02  0.122268  0.025144  0.137721  0.016332    1285.43 -1.983636   \n",
       "2 2013-04-03  0.121398  0.021389  0.139830  0.018381    1278.72 -2.015455   \n",
       "\n",
       "      CPI %        M2       Lending     ...            PMI    Spread  \\\n",
       "0  0.350816  0.955941  25145.090909     ...      50.886364  97.25622   \n",
       "1  0.354734  0.958193  24787.181818     ...      50.872727  96.16199   \n",
       "2  0.358651  0.960445  24429.272727     ...      50.859091  94.08273   \n",
       "\n",
       "      VOL300     VOL500  BDI  USD/CNY    USD  Unnamed: 18  Unnamed: 19  \\\n",
       "0  47.346022  32.953823  910   6.2674  82.73          NaN          NaN   \n",
       "1  55.684152  37.863676  896   6.2586  82.89          NaN          NaN   \n",
       "2  45.564221  36.721020  877   6.2609  82.76          NaN          NaN   \n",
       "\n",
       "  Unnamed: 20  \n",
       "0         NaN  \n",
       "1         NaN  \n",
       "2         NaN  \n",
       "\n",
       "[3 rows x 21 columns]"
      ]
     },
     "execution_count": 514,
     "metadata": {},
     "output_type": "execute_result"
    }
   ],
   "source": [
    "df_scaled,scaler = minmax_scale(df=df,input_cols=input_features,output=output)\n",
    "df_scaled.head(3)"
   ]
  },
  {
   "cell_type": "markdown",
   "metadata": {},
   "source": [
    "# Create LSTM input-label data"
   ]
  },
  {
   "cell_type": "code",
   "execution_count": 515,
   "metadata": {},
   "outputs": [],
   "source": [
    "def generate_lstm_input_label(df,start_date,num_input_day,num_output_day,time_lag,input_features,output):\n",
    "    '''\n",
    "    Input : [date,num_features]\n",
    "    \n",
    "    Output:\n",
    "        x_temp : [batch_size,time_steps,num_features]\n",
    "        y_temp : [batch_size,time_steps,num_output]\n",
    "    '''\n",
    "    start_date_tstamp = pd.to_datetime(start_date, format='%Y-%m-%d', errors='ignore')\n",
    "    start_index= list(df_drop['date']).index(start_date_tstamp)\n",
    "    \n",
    "    # Create zero-like matrix to store rolling-window time data\n",
    "    x_temp = np.zeros((len(df_drop)-start_index-num_input_day-num_output_day-time_lag, num_input_day, len(input_features)))\n",
    "    y_temp = np.zeros((len(df_drop)-start_index-num_input_day-num_output_day-time_lag, num_output_day, len(output)))\n",
    "    \n",
    "    matrix_index = 0 \n",
    "    for i in range(start_index,len(df_drop)-num_input_day-num_output_day-time_lag):\n",
    "        x_temp[matrix_index,:,:] = df_drop[input_features].values[i:i+num_input_day,:]\n",
    "        matrix_index +=1\n",
    "        \n",
    "    matrix_index = 0 \n",
    "    for i in range(start_index,len(df_drop)-num_input_day-num_output_day-time_lag):\n",
    "        y_temp[matrix_index,:,:] = df_drop[output].values[i+num_input_day+time_lag:i+num_input_day+num_output_day+time_lag,:]\n",
    "        matrix_index +=1\n",
    "    return x_temp, y_temp"
   ]
  },
  {
   "cell_type": "code",
   "execution_count": 516,
   "metadata": {},
   "outputs": [],
   "source": [
    "X_set, Y_set= generate_lstm_input_label(df=df_scaled,\\\n",
    "                                        start_date=start_date,\\\n",
    "                                        time_lag=time_lag,\\\n",
    "                                        num_input_day=num_input_day,\\\n",
    "                                        num_output_day=num_output_day,\\\n",
    "                                        input_features=input_features,\\\n",
    "                                        output=output)"
   ]
  },
  {
   "cell_type": "markdown",
   "metadata": {},
   "source": [
    "# Modeling"
   ]
  },
  {
   "cell_type": "markdown",
   "metadata": {},
   "source": [
    "### Train,valid,test split"
   ]
  },
  {
   "cell_type": "code",
   "execution_count": 517,
   "metadata": {},
   "outputs": [
    {
     "name": "stdout",
     "output_type": "stream",
     "text": [
      "Total number of data sample is 1612\n"
     ]
    }
   ],
   "source": [
    "print('Total number of data sample is {}'.format(len(X_set)))"
   ]
  },
  {
   "cell_type": "code",
   "execution_count": 518,
   "metadata": {},
   "outputs": [],
   "source": [
    "def generate_split_data(X,Y,prec):\n",
    "    train_index = range(int(prec[0]*len(X)))\n",
    "    valid_index = range(int(prec[0]*len(X)),int((prec[0]+prec[1])*len(X)))\n",
    "    test_index = range(int((prec[0]+prec[1])*len(X)),len(X))\n",
    "    \n",
    "    X_train = X[train_index,:,:]\n",
    "    Y_train = Y[train_index,:,:]\n",
    "    X_valid = X[valid_index,:,:]\n",
    "    Y_valid = Y[valid_index,:,:]\n",
    "    X_test = X[test_index,:,:]\n",
    "    Y_test = Y[test_index,:,:]\n",
    "    \n",
    "    return X_train,Y_train,X_valid,Y_valid,X_test,Y_test"
   ]
  },
  {
   "cell_type": "code",
   "execution_count": 519,
   "metadata": {},
   "outputs": [],
   "source": [
    "split_prec = [0.8,0.1,0.1]  # train 0.8, valid 0.1 ,test 0.1\n",
    "\n",
    "X_train,Y_train,X_valid,Y_valid,X_test,Y_test = generate_split_data(X_set,Y_set,split_prec)"
   ]
  },
  {
   "cell_type": "code",
   "execution_count": 520,
   "metadata": {},
   "outputs": [],
   "source": [
    "# transfer y_matrix from [batch_size,time_steps=1,num_output=1] =>[batch_size, num_output=1]\n",
    "Y_train = np.squeeze(Y_train,axis=(2)) \n",
    "Y_valid = np.squeeze(Y_valid,axis=(2))\n",
    "Y_test = np.squeeze(Y_test,axis=(2))"
   ]
  },
  {
   "cell_type": "markdown",
   "metadata": {},
   "source": [
    "### LSTM Modeling"
   ]
  },
  {
   "cell_type": "code",
   "execution_count": 521,
   "metadata": {},
   "outputs": [],
   "source": [
    "from keras.models import Sequential\n",
    "from keras.layers import Dense, LSTM, Dropout\n",
    "from keras.callbacks.callbacks import ModelCheckpoint,EarlyStopping"
   ]
  },
  {
   "cell_type": "code",
   "execution_count": 522,
   "metadata": {},
   "outputs": [],
   "source": [
    "# model parameters\n",
    "hidden_size = 50"
   ]
  },
  {
   "cell_type": "code",
   "execution_count": 523,
   "metadata": {},
   "outputs": [],
   "source": [
    "# design network\n",
    "model = Sequential()\n",
    "model.add(LSTM(hidden_size, activation='tanh', input_shape=(X_train.shape[1], X_train.shape[2])))\n",
    "model.add(Dropout(0.1))\n",
    "model.add(Dense(1))\n",
    "model.compile(loss='mae', optimizer='adam')"
   ]
  },
  {
   "cell_type": "code",
   "execution_count": 524,
   "metadata": {},
   "outputs": [],
   "source": [
    "ckp = ModelCheckpoint('lstm_forecast.pt',\\\n",
    "                      monitor='val_loss',\\\n",
    "                      verbose=10,\\\n",
    "                      save_best_only=True)\n",
    "\n",
    "es = EarlyStopping(monitor='val_loss',\\\n",
    "                   patience=5,\\\n",
    "                   verbose=0)"
   ]
  },
  {
   "cell_type": "code",
   "execution_count": 525,
   "metadata": {},
   "outputs": [
    {
     "name": "stdout",
     "output_type": "stream",
     "text": [
      "Train on 1289 samples, validate on 161 samples\n",
      "Epoch 1/300\n",
      "\n",
      "Epoch 00001: val_loss improved from inf to 0.18572, saving model to lstm_forecast.pt\n",
      "Epoch 2/300\n",
      "\n",
      "Epoch 00002: val_loss improved from 0.18572 to 0.09876, saving model to lstm_forecast.pt\n",
      "Epoch 3/300\n",
      "\n",
      "Epoch 00003: val_loss improved from 0.09876 to 0.07148, saving model to lstm_forecast.pt\n",
      "Epoch 4/300\n",
      "\n",
      "Epoch 00004: val_loss improved from 0.07148 to 0.05448, saving model to lstm_forecast.pt\n",
      "Epoch 5/300\n",
      "\n",
      "Epoch 00005: val_loss improved from 0.05448 to 0.04906, saving model to lstm_forecast.pt\n",
      "Epoch 6/300\n",
      "\n",
      "Epoch 00006: val_loss improved from 0.04906 to 0.04525, saving model to lstm_forecast.pt\n",
      "Epoch 7/300\n",
      "\n",
      "Epoch 00007: val_loss improved from 0.04525 to 0.04071, saving model to lstm_forecast.pt\n",
      "Epoch 8/300\n",
      "\n",
      "Epoch 00008: val_loss did not improve from 0.04071\n",
      "Epoch 9/300\n",
      "\n",
      "Epoch 00009: val_loss improved from 0.04071 to 0.03691, saving model to lstm_forecast.pt\n",
      "Epoch 10/300\n",
      "\n",
      "Epoch 00010: val_loss improved from 0.03691 to 0.03680, saving model to lstm_forecast.pt\n",
      "Epoch 11/300\n",
      "\n",
      "Epoch 00011: val_loss did not improve from 0.03680\n",
      "Epoch 12/300\n",
      "\n",
      "Epoch 00012: val_loss did not improve from 0.03680\n",
      "Epoch 13/300\n",
      "\n",
      "Epoch 00013: val_loss did not improve from 0.03680\n",
      "Epoch 14/300\n",
      "\n",
      "Epoch 00014: val_loss did not improve from 0.03680\n",
      "Epoch 15/300\n",
      "\n",
      "Epoch 00015: val_loss did not improve from 0.03680\n"
     ]
    }
   ],
   "source": [
    "# fit network\n",
    "history = model.fit(X_train,\\\n",
    "                    Y_train,\\\n",
    "                    epochs=300,\\\n",
    "                    batch_size=32,\\\n",
    "                    validation_data=(X_valid,Y_valid),\\\n",
    "                    verbose=10,\\\n",
    "                    callbacks=[ckp,es],\n",
    "                    shuffle=False)"
   ]
  },
  {
   "cell_type": "code",
   "execution_count": 526,
   "metadata": {
    "scrolled": true
   },
   "outputs": [
    {
     "data": {
      "image/png": "[encoded data removed]",
      "text/plain": [
       "<Figure size 432x288 with 1 Axes>"
      ]
     },
     "metadata": {
      "needs_background": "light"
     },
     "output_type": "display_data"
    }
   ],
   "source": [
    "import matplotlib.pyplot as plt\n",
    "%matplotlib inline\n",
    "\n",
    "# plot history\n",
    "plt.plot(history.history['loss'], label='train')\n",
    "plt.plot(history.history['val_loss'], label='valid')\n",
    "plt.legend()\n",
    "plt.show()"
   ]
  },
  {
   "cell_type": "markdown",
   "metadata": {},
   "source": [
    "# Evaluate Model"
   ]
  },
  {
   "cell_type": "code",
   "execution_count": 527,
   "metadata": {},
   "outputs": [],
   "source": [
    "model.load_weights('lstm_forecast.pt')"
   ]
  },
  {
   "cell_type": "code",
   "execution_count": 528,
   "metadata": {},
   "outputs": [],
   "source": [
    "y_hat = model.predict(X_test)"
   ]
  },
  {
   "cell_type": "markdown",
   "metadata": {},
   "source": [
    "Inverse_tranform the prediction to original price index (HS300)"
   ]
  },
  {
   "cell_type": "code",
   "execution_count": 529,
   "metadata": {},
   "outputs": [],
   "source": [
    "y_hat_price = scaler.inverse_transform(y_hat)\n",
    "y_true_price = scaler.inverse_transform(Y_test)"
   ]
  },
  {
   "cell_type": "code",
   "execution_count": 530,
   "metadata": {},
   "outputs": [],
   "source": [
    "eval_pred =pd.DataFrame({'time':df['date'][-len(y_hat):],'HS300_Pred':y_hat_price.squeeze(),'HSS300_True':y_true_price.squeeze()})"
   ]
  },
  {
   "cell_type": "code",
   "execution_count": 533,
   "metadata": {},
   "outputs": [
    {
     "data": {
      "text/html": [
       "<div>\n",
       "<style scoped>\n",
       "    .dataframe tbody tr th:only-of-type {\n",
       "        vertical-align: middle;\n",
       "    }\n",
       "\n",
       "    .dataframe tbody tr th {\n",
       "        vertical-align: top;\n",
       "    }\n",
       "\n",
       "    .dataframe thead th {\n",
       "        text-align: right;\n",
       "    }\n",
       "</style>\n",
       "<table border=\"1\" class=\"dataframe\">\n",
       "  <thead>\n",
       "    <tr style=\"text-align: right;\">\n",
       "      <th></th>\n",
       "      <th>time</th>\n",
       "      <th>HS300_Pred</th>\n",
       "      <th>HSS300_True</th>\n",
       "    </tr>\n",
       "  </thead>\n",
       "  <tbody>\n",
       "    <tr>\n",
       "      <th>1462</th>\n",
       "      <td>2019-04-03</td>\n",
       "      <td>3533.275146</td>\n",
       "      <td>3971.2852</td>\n",
       "    </tr>\n",
       "    <tr>\n",
       "      <th>1463</th>\n",
       "      <td>2019-04-04</td>\n",
       "      <td>3541.276855</td>\n",
       "      <td>4022.1566</td>\n",
       "    </tr>\n",
       "    <tr>\n",
       "      <th>1464</th>\n",
       "      <td>2019-04-08</td>\n",
       "      <td>3550.364502</td>\n",
       "      <td>4062.2309</td>\n",
       "    </tr>\n",
       "    <tr>\n",
       "      <th>1465</th>\n",
       "      <td>2019-04-09</td>\n",
       "      <td>3560.731201</td>\n",
       "      <td>4057.2286</td>\n",
       "    </tr>\n",
       "    <tr>\n",
       "      <th>1466</th>\n",
       "      <td>2019-04-10</td>\n",
       "      <td>3571.320557</td>\n",
       "      <td>4075.4301</td>\n",
       "    </tr>\n",
       "    <tr>\n",
       "      <th>1467</th>\n",
       "      <td>2019-04-11</td>\n",
       "      <td>3579.947754</td>\n",
       "      <td>4085.8470</td>\n",
       "    </tr>\n",
       "    <tr>\n",
       "      <th>1468</th>\n",
       "      <td>2019-04-12</td>\n",
       "      <td>3588.108154</td>\n",
       "      <td>3997.5778</td>\n",
       "    </tr>\n",
       "    <tr>\n",
       "      <th>1469</th>\n",
       "      <td>2019-04-15</td>\n",
       "      <td>3596.730469</td>\n",
       "      <td>3988.6168</td>\n",
       "    </tr>\n",
       "    <tr>\n",
       "      <th>1470</th>\n",
       "      <td>2019-04-16</td>\n",
       "      <td>3598.146484</td>\n",
       "      <td>3975.5244</td>\n",
       "    </tr>\n",
       "    <tr>\n",
       "      <th>1471</th>\n",
       "      <td>2019-04-17</td>\n",
       "      <td>3598.418457</td>\n",
       "      <td>4085.7891</td>\n",
       "    </tr>\n",
       "  </tbody>\n",
       "</table>\n",
       "</div>"
      ],
      "text/plain": [
       "           time   HS300_Pred  HSS300_True\n",
       "1462 2019-04-03  3533.275146    3971.2852\n",
       "1463 2019-04-04  3541.276855    4022.1566\n",
       "1464 2019-04-08  3550.364502    4062.2309\n",
       "1465 2019-04-09  3560.731201    4057.2286\n",
       "1466 2019-04-10  3571.320557    4075.4301\n",
       "1467 2019-04-11  3579.947754    4085.8470\n",
       "1468 2019-04-12  3588.108154    3997.5778\n",
       "1469 2019-04-15  3596.730469    3988.6168\n",
       "1470 2019-04-16  3598.146484    3975.5244\n",
       "1471 2019-04-17  3598.418457    4085.7891"
      ]
     },
     "execution_count": 533,
     "metadata": {},
     "output_type": "execute_result"
    }
   ],
   "source": [
    "eval_pred.head(10)"
   ]
  },
  {
   "cell_type": "code",
   "execution_count": 531,
   "metadata": {},
   "outputs": [
    {
     "data": {
      "text/plain": [
       "<matplotlib.axes._subplots.AxesSubplot at 0x14dcdcdd8>"
      ]
     },
     "execution_count": 531,
     "metadata": {},
     "output_type": "execute_result"
    },
    {
     "data": {
      "image/png": "[encoded data removed]",
      "text/plain": [
       "<Figure size 432x288 with 1 Axes>"
      ]
     },
     "metadata": {
      "needs_background": "light"
     },
     "output_type": "display_data"
    }
   ],
   "source": [
    "eval_pred.set_index(eval_pred['time']).drop(['time'],axis=1).plot()"
   ]
  }
 ],
 "metadata": {
  "kernelspec": {
   "display_name": "Python 3",
   "language": "python",
   "name": "python3"
  },
  "language_info": {
   "codemirror_mode": {
    "name": "ipython",
    "version": 3
   },
   "file_extension": ".py",
   "mimetype": "text/x-python",
   "name": "python",
   "nbconvert_exporter": "python",
   "pygments_lexer": "ipython3",
   "version": "3.6.1"
  },
  "latex_envs": {
   "LaTeX_envs_menu_present": true,
   "autoclose": false,
   "autocomplete": true,
   "bibliofile": "biblio.bib",
   "cite_by": "apalike",
   "current_citInitial": 1,
   "eqLabelWithNumbers": true,
   "eqNumInitial": 1,
   "hotkeys": {
    "equation": "Ctrl-E",
    "itemize": "Ctrl-I"
   },
   "labels_anchors": false,
   "latex_user_defs": false,
   "report_style_numbering": false,
   "user_envs_cfg": false
  },
  "varInspector": {
   "cols": {
    "lenName": 16,
    "lenType": 16,
    "lenVar": 40
   },
   "kernels_config": {
    "python": {
     "delete_cmd_postfix": "",
     "delete_cmd_prefix": "del ",
     "library": "var_list.py",
     "varRefreshCmd": "print(var_dic_list())"
    },
    "r": {
     "delete_cmd_postfix": ") ",
     "delete_cmd_prefix": "rm(",
     "library": "var_list.r",
     "varRefreshCmd": "cat(var_dic_list()) "
    }
   },
   "types_to_exclude": [
    "module",
    "function",
    "builtin_function_or_method",
    "instance",
    "_Feature"
   ],
   "window_display": false
  }
 },
 "nbformat": 4,
 "nbformat_minor": 2
}
